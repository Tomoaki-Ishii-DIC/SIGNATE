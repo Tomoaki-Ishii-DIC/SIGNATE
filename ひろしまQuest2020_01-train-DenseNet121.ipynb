{
 "cells": [
  {
   "cell_type": "markdown",
   "metadata": {
    "id": "lklpMPmdywa6"
   },
   "source": [
    "# ひろしまQuest2020 Training"
   ]
  },
  {
   "cell_type": "code",
   "execution_count": 1,
   "metadata": {
    "colab": {
     "base_uri": "https://localhost:8080/"
    },
    "executionInfo": {
     "elapsed": 671,
     "status": "ok",
     "timestamp": 1616131770086,
     "user": {
      "displayName": "Tomoaki Ishii",
      "photoUrl": "https://lh6.googleusercontent.com/-IsY3TyXCec8/AAAAAAAAAAI/AAAAAAAAAB8/AF3OoMPfjek/s64/photo.jpg",
      "userId": "10686372748334617638"
     },
     "user_tz": -540
    },
    "id": "wMZNFjCvy7Qb",
    "outputId": "425d38bc-0842-4295-a5a7-a9e825165842"
   },
   "outputs": [],
   "source": [
    "# 自分のマイドライブにマウントする(Google Colab使用時)\n",
    "\n",
    "#from google.colab import drive\n",
    "#drive.mount('/content/drive/')"
   ]
  },
  {
   "cell_type": "code",
   "execution_count": 2,
   "metadata": {
    "colab": {
     "base_uri": "https://localhost:8080/"
    },
    "executionInfo": {
     "elapsed": 1357,
     "status": "ok",
     "timestamp": 1616131770785,
     "user": {
      "displayName": "Tomoaki Ishii",
      "photoUrl": "https://lh6.googleusercontent.com/-IsY3TyXCec8/AAAAAAAAAAI/AAAAAAAAAB8/AF3OoMPfjek/s64/photo.jpg",
      "userId": "10686372748334617638"
     },
     "user_tz": -540
    },
    "id": "W27jLYFty-Fx",
    "outputId": "667b6cf8-fd10-4820-b454-29db31af6e78"
   },
   "outputs": [],
   "source": [
    "#cd \"/content/drive/MyDrive\""
   ]
  },
  {
   "cell_type": "code",
   "execution_count": 3,
   "metadata": {
    "executionInfo": {
     "elapsed": 1351,
     "status": "ok",
     "timestamp": 1616131770787,
     "user": {
      "displayName": "Tomoaki Ishii",
      "photoUrl": "https://lh6.googleusercontent.com/-IsY3TyXCec8/AAAAAAAAAAI/AAAAAAAAAB8/AF3OoMPfjek/s64/photo.jpg",
      "userId": "10686372748334617638"
     },
     "user_tz": -540
    },
    "id": "HxwFJye8ywa-"
   },
   "outputs": [],
   "source": [
    "import numpy as np\n",
    "import os\n",
    "import pandas as pd"
   ]
  },
  {
   "cell_type": "code",
   "execution_count": 4,
   "metadata": {
    "executionInfo": {
     "elapsed": 2730,
     "status": "ok",
     "timestamp": 1616131772171,
     "user": {
      "displayName": "Tomoaki Ishii",
      "photoUrl": "https://lh6.googleusercontent.com/-IsY3TyXCec8/AAAAAAAAAAI/AAAAAAAAAB8/AF3OoMPfjek/s64/photo.jpg",
      "userId": "10686372748334617638"
     },
     "user_tz": -540
    },
    "id": "9R4IaHg1ywbA"
   },
   "outputs": [],
   "source": [
    "import tensorflow as tf\n",
    "\n",
    "from tensorflow.keras.models import Sequential\n",
    "from tensorflow.keras.layers import Dense, Conv2D, Flatten, Dropout, MaxPooling2D\n",
    "from tensorflow.keras.preprocessing.image import ImageDataGenerator\n",
    "\n",
    "import os\n",
    "import numpy as np\n",
    "import matplotlib.pyplot as plt"
   ]
  },
  {
   "cell_type": "code",
   "execution_count": 5,
   "metadata": {
    "executionInfo": {
     "elapsed": 2732,
     "status": "ok",
     "timestamp": 1616131772177,
     "user": {
      "displayName": "Tomoaki Ishii",
      "photoUrl": "https://lh6.googleusercontent.com/-IsY3TyXCec8/AAAAAAAAAAI/AAAAAAAAAB8/AF3OoMPfjek/s64/photo.jpg",
      "userId": "10686372748334617638"
     },
     "user_tz": -540
    },
    "id": "Ts88Lu1uywbB"
   },
   "outputs": [],
   "source": [
    "import pathlib\n",
    "import shutil"
   ]
  },
  {
   "cell_type": "markdown",
   "metadata": {},
   "source": [
    "## ImageDataGenerator用のデータセットを作成"
   ]
  },
  {
   "cell_type": "code",
   "execution_count": 6,
   "metadata": {
    "executionInfo": {
     "elapsed": 2728,
     "status": "ok",
     "timestamp": 1616131772178,
     "user": {
      "displayName": "Tomoaki Ishii",
      "photoUrl": "https://lh6.googleusercontent.com/-IsY3TyXCec8/AAAAAAAAAAI/AAAAAAAAAB8/AF3OoMPfjek/s64/photo.jpg",
      "userId": "10686372748334617638"
     },
     "user_tz": -540
    },
    "id": "h6SLFOE9ywbC"
   },
   "outputs": [
    {
     "data": {
      "text/plain": [
       "PosixPath('.')"
      ]
     },
     "execution_count": 6,
     "metadata": {},
     "output_type": "execute_result"
    }
   ],
   "source": [
    "dataset_path = pathlib.Path('.')\n",
    "#dataset_path = pathlib.Path('/content/drive/MyDrive')#Colab使用時\n",
    "dataset_path"
   ]
  },
  {
   "cell_type": "code",
   "execution_count": 7,
   "metadata": {},
   "outputs": [
    {
     "name": "stdout",
     "output_type": "stream",
     "text": [
      "Train folder:  ['0優良', '.DS_Store', '3規格外', '1良', '2加工品']\n",
      "Validation folder:  ['0優良', '.DS_Store', '3規格外', '1良', '2加工品']\n"
     ]
    }
   ],
   "source": [
    "images_folder = ['0優良', '1良', '2加工品', '3規格外']\n",
    "\n",
    "train_folder_path = './train_images_gen'\n",
    "val_folder_path = './val_images_gen'\n",
    "\n",
    "# フォルダ作成\n",
    "for img_f in images_folder:\n",
    "    os.makedirs(train_folder_path + '/' + img_f, exist_ok=True)\n",
    "    os.makedirs(val_folder_path + '/' + img_f, exist_ok=True)\n",
    "    \n",
    "print(\"Train folder: \", os.listdir(train_folder_path))\n",
    "print(\"Validation folder: \", os.listdir(val_folder_path))"
   ]
  },
  {
   "cell_type": "code",
   "execution_count": 8,
   "metadata": {
    "colab": {
     "base_uri": "https://localhost:8080/",
     "height": 203
    },
    "executionInfo": {
     "elapsed": 2698,
     "status": "ok",
     "timestamp": 1616131772183,
     "user": {
      "displayName": "Tomoaki Ishii",
      "photoUrl": "https://lh6.googleusercontent.com/-IsY3TyXCec8/AAAAAAAAAAI/AAAAAAAAAB8/AF3OoMPfjek/s64/photo.jpg",
      "userId": "10686372748334617638"
     },
     "user_tz": -540
    },
    "id": "sFHsdnViywbH",
    "outputId": "bd4190db-ac3b-4e4a-f785-5f95fdb9ba26"
   },
   "outputs": [],
   "source": [
    "train_df = pd.read_csv(dataset_path/'train_images.csv')\n",
    "#train_df"
   ]
  },
  {
   "cell_type": "code",
   "execution_count": 9,
   "metadata": {
    "colab": {
     "base_uri": "https://localhost:8080/"
    },
    "executionInfo": {
     "elapsed": 2684,
     "status": "ok",
     "timestamp": 1616131772184,
     "user": {
      "displayName": "Tomoaki Ishii",
      "photoUrl": "https://lh6.googleusercontent.com/-IsY3TyXCec8/AAAAAAAAAAI/AAAAAAAAAB8/AF3OoMPfjek/s64/photo.jpg",
      "userId": "10686372748334617638"
     },
     "user_tz": -540
    },
    "id": "9Fwa2YiXywbI",
    "outputId": "8f92f485-f36c-4aba-d9c5-6418fd128141"
   },
   "outputs": [
    {
     "name": "stdout",
     "output_type": "stream",
     "text": [
      "Pictures:  [400, 255, 235, 212]\n",
      "Total:  1102\n"
     ]
    }
   ],
   "source": [
    "n_picture = []\n",
    "for l in range(len(images_folder)):    \n",
    "    n_picture.append(len(train_df[train_df['class_num']==l]))\n",
    "print(\"Pictures: \", n_picture)\n",
    "print(\"Total: \", sum(n_picture))"
   ]
  },
  {
   "cell_type": "code",
   "execution_count": 10,
   "metadata": {
    "colab": {
     "base_uri": "https://localhost:8080/",
     "height": 282
    },
    "executionInfo": {
     "elapsed": 3196,
     "status": "ok",
     "timestamp": 1616131772706,
     "user": {
      "displayName": "Tomoaki Ishii",
      "photoUrl": "https://lh6.googleusercontent.com/-IsY3TyXCec8/AAAAAAAAAAI/AAAAAAAAAB8/AF3OoMPfjek/s64/photo.jpg",
      "userId": "10686372748334617638"
     },
     "user_tz": -540
    },
    "id": "3tXuj-XSywbJ",
    "outputId": "f2fe095d-1a62-4333-875c-f14081a0ce99"
   },
   "outputs": [
    {
     "data": {
      "text/plain": [
       "<BarContainer object of 4 artists>"
      ]
     },
     "execution_count": 10,
     "metadata": {},
     "output_type": "execute_result"
    },
    {
     "data": {
      "image/png": "[encoded data removed]",
      "text/plain": [
       "<Figure size 432x288 with 1 Axes>"
      ]
     },
     "metadata": {
      "needs_background": "light"
     },
     "output_type": "display_data"
    }
   ],
   "source": [
    "import matplotlib.pyplot as plt\n",
    "images_label_list = ['0', '1', '2', '3']\n",
    "plt.bar(images_label_list, n_picture)"
   ]
  },
  {
   "cell_type": "code",
   "execution_count": 11,
   "metadata": {
    "colab": {
     "base_uri": "https://localhost:8080/",
     "height": 190
    },
    "executionInfo": {
     "elapsed": 3165,
     "status": "ok",
     "timestamp": 1616131772713,
     "user": {
      "displayName": "Tomoaki Ishii",
      "photoUrl": "https://lh6.googleusercontent.com/-IsY3TyXCec8/AAAAAAAAAAI/AAAAAAAAAB8/AF3OoMPfjek/s64/photo.jpg",
      "userId": "10686372748334617638"
     },
     "user_tz": -540
    },
    "id": "uVAsoLqLywbL",
    "outputId": "cb918eef-b674-4250-bd9d-5eacc9ca023c"
   },
   "outputs": [],
   "source": [
    "#全ファイルコピー(シャッフルできていない)\n",
    "#1回実行したらコメントアウトでOK（ドライブにファイルを作るのが目的のため）\n",
    "\n",
    "# train_test_split\n",
    "total_size = sum(n_picture)\n",
    "ratio = 0.7\n",
    "total_train = int(total_size*ratio)\n",
    "total_val = int(total_size-total_train)\n",
    "\n",
    "for l in range(len(images_folder)):\n",
    "    i = 0                 \n",
    "    # validation data\n",
    "    while i < int(n_picture[l]*ratio):\n",
    "            file_name = train_df[train_df['class_num']==l].loc[train_df[train_df['class_num']==l].index[i]]['id']\n",
    "            in_path = dataset_path/'train_images'/file_name\n",
    "            out_path = val_folder_path + '/' + images_folder[l] + '/' + file_name\n",
    "            shutil.copyfile(in_path, out_path)\n",
    "            _, _, files = next(os.walk(val_folder_path + '/' + images_folder[l]))\n",
    "            file_count = len(files)\n",
    "            i += 1\n",
    "    # train data       \n",
    "    while i < n_picture[l]:\n",
    "            file_name = train_df[train_df['class_num']==l].loc[train_df[train_df['class_num']==l].index[i]]['id']\n",
    "            in_path = dataset_path/'train_images'/file_name\n",
    "            out_path = train_folder_path + '/' + images_folder[l] + '/' + file_name\n",
    "            shutil.copyfile(in_path, out_path)\n",
    "            _, _, files = next(os.walk(train_folder_path + '/' + images_folder[l]))\n",
    "            file_count = len(files)\n",
    "            i += 1"
   ]
  },
  {
   "cell_type": "markdown",
   "metadata": {
    "id": "a-T01EBCywbM"
   },
   "source": [
    "## データ拡張\n"
   ]
  },
  {
   "cell_type": "code",
   "execution_count": 12,
   "metadata": {
    "executionInfo": {
     "elapsed": 3145,
     "status": "ok",
     "timestamp": 1616131772716,
     "user": {
      "displayName": "Tomoaki Ishii",
      "photoUrl": "https://lh6.googleusercontent.com/-IsY3TyXCec8/AAAAAAAAAAI/AAAAAAAAAB8/AF3OoMPfjek/s64/photo.jpg",
      "userId": "10686372748334617638"
     },
     "user_tz": -540
    },
    "id": "QqaOXQR2ywbN"
   },
   "outputs": [],
   "source": [
    "train_image_generator = ImageDataGenerator(rescale=1./255,\n",
    "                                        rotation_range=360,\n",
    "                                        width_shift_range=0.1,\n",
    "                                        height_shift_range=0.1,\n",
    "                                        horizontal_flip=True,\n",
    "                                        vertical_flip=True,\n",
    "                                        zoom_range=0.5,\n",
    "                                        shear_range=0.1,\n",
    "                                        fill_mode = 'nearest'\n",
    "                                        )"
   ]
  },
  {
   "cell_type": "code",
   "execution_count": 13,
   "metadata": {
    "executionInfo": {
     "elapsed": 3141,
     "status": "ok",
     "timestamp": 1616131772717,
     "user": {
      "displayName": "Tomoaki Ishii",
      "photoUrl": "https://lh6.googleusercontent.com/-IsY3TyXCec8/AAAAAAAAAAI/AAAAAAAAAB8/AF3OoMPfjek/s64/photo.jpg",
      "userId": "10686372748334617638"
     },
     "user_tz": -540
    },
    "id": "ngjSg9kqywbN"
   },
   "outputs": [],
   "source": [
    "validation_image_generator = ImageDataGenerator(rescale=1./255) # 検証データのジェネレータ"
   ]
  },
  {
   "cell_type": "code",
   "execution_count": 14,
   "metadata": {
    "executionInfo": {
     "elapsed": 3136,
     "status": "ok",
     "timestamp": 1616131772718,
     "user": {
      "displayName": "Tomoaki Ishii",
      "photoUrl": "https://lh6.googleusercontent.com/-IsY3TyXCec8/AAAAAAAAAAI/AAAAAAAAAB8/AF3OoMPfjek/s64/photo.jpg",
      "userId": "10686372748334617638"
     },
     "user_tz": -540
    },
    "id": "qSW1pqqjywbO"
   },
   "outputs": [],
   "source": [
    "BATCH_SIZE = 8\n",
    "epochs = 100\n",
    "\n",
    "IMG_HEIGHT = 320\n",
    "IMG_WIDTH = 320"
   ]
  },
  {
   "cell_type": "code",
   "execution_count": 15,
   "metadata": {
    "colab": {
     "base_uri": "https://localhost:8080/"
    },
    "executionInfo": {
     "elapsed": 3130,
     "status": "ok",
     "timestamp": 1616131772718,
     "user": {
      "displayName": "Tomoaki Ishii",
      "photoUrl": "https://lh6.googleusercontent.com/-IsY3TyXCec8/AAAAAAAAAAI/AAAAAAAAAB8/AF3OoMPfjek/s64/photo.jpg",
      "userId": "10686372748334617638"
     },
     "user_tz": -540
    },
    "id": "SNQRofwFywbO",
    "outputId": "9a256ed0-15be-41f9-831d-68f6f8636466"
   },
   "outputs": [
    {
     "name": "stdout",
     "output_type": "stream",
     "text": [
      "Found 332 images belonging to 4 classes.\n"
     ]
    }
   ],
   "source": [
    "train_data_gen = train_image_generator.flow_from_directory(batch_size=BATCH_SIZE,\n",
    "                                                           directory=train_folder_path,\n",
    "                                                           shuffle=True,\n",
    "                                                           target_size=(IMG_HEIGHT, IMG_WIDTH),\n",
    "                                                           class_mode='categorical',\n",
    "                                                           classes = images_folder)"
   ]
  },
  {
   "cell_type": "code",
   "execution_count": 16,
   "metadata": {
    "colab": {
     "base_uri": "https://localhost:8080/"
    },
    "executionInfo": {
     "elapsed": 3123,
     "status": "ok",
     "timestamp": 1616131772719,
     "user": {
      "displayName": "Tomoaki Ishii",
      "photoUrl": "https://lh6.googleusercontent.com/-IsY3TyXCec8/AAAAAAAAAAI/AAAAAAAAAB8/AF3OoMPfjek/s64/photo.jpg",
      "userId": "10686372748334617638"
     },
     "user_tz": -540
    },
    "id": "r3QJgOgjywbP",
    "outputId": "4efba2f1-618d-4424-9c6c-967b5eec4395"
   },
   "outputs": [
    {
     "name": "stdout",
     "output_type": "stream",
     "text": [
      "Found 770 images belonging to 4 classes.\n"
     ]
    }
   ],
   "source": [
    "val_data_gen = validation_image_generator.flow_from_directory(batch_size=BATCH_SIZE,\n",
    "                                                          directory=val_folder_path,\n",
    "                                                          target_size=(IMG_HEIGHT, IMG_WIDTH),\n",
    "                                                          class_mode='categorical',\n",
    "                                                          classes = images_folder)"
   ]
  },
  {
   "cell_type": "code",
   "execution_count": 17,
   "metadata": {
    "colab": {
     "base_uri": "https://localhost:8080/"
    },
    "executionInfo": {
     "elapsed": 3115,
     "status": "ok",
     "timestamp": 1616131772719,
     "user": {
      "displayName": "Tomoaki Ishii",
      "photoUrl": "https://lh6.googleusercontent.com/-IsY3TyXCec8/AAAAAAAAAAI/AAAAAAAAAB8/AF3OoMPfjek/s64/photo.jpg",
      "userId": "10686372748334617638"
     },
     "user_tz": -540
    },
    "id": "NUuxl-dRywbQ",
    "outputId": "bffdee66-241b-42c0-d33e-6f45a4ba3c40"
   },
   "outputs": [
    {
     "name": "stdout",
     "output_type": "stream",
     "text": [
      "Train generator's label:\n",
      " {'0優良': 0, '1良': 1, '2加工品': 2, '3規格外': 3}\n",
      "Validation generator's label:\n",
      " {'0優良': 0, '1良': 1, '2加工品': 2, '3規格外': 3}\n"
     ]
    }
   ],
   "source": [
    "print(\"Train generator's label:\\n\", train_data_gen.class_indices)\n",
    "print(\"Validation generator's label:\\n\", val_data_gen.class_indices)"
   ]
  },
  {
   "cell_type": "markdown",
   "metadata": {},
   "source": [
    "## Training"
   ]
  },
  {
   "cell_type": "code",
   "execution_count": 18,
   "metadata": {},
   "outputs": [],
   "source": [
    "import tensorflow as tf\n",
    "import keras\n",
    "from tensorflow.keras.applications import DenseNet121\n",
    "from tensorflow.keras import models, layers\n",
    "from keras.models import Sequential\n",
    "from keras.layers import Dense, Dropout, Flatten\n",
    "from keras.callbacks import ModelCheckpoint, EarlyStopping, ReduceLROnPlateau\n",
    "from keras.optimizers import Adamax\n",
    "from keras.losses import CategoricalCrossentropy\n"
   ]
  },
  {
   "cell_type": "markdown",
   "metadata": {},
   "source": [
    "## Model\n",
    "reference  \n",
    "https://www.kaggle.com/bununtadiresmenmor/starter-keras-efficientnet\n",
    "\n"
   ]
  },
  {
   "cell_type": "code",
   "execution_count": 19,
   "metadata": {
    "executionInfo": {
     "elapsed": 13308,
     "status": "ok",
     "timestamp": 1616131782954,
     "user": {
      "displayName": "Tomoaki Ishii",
      "photoUrl": "https://lh6.googleusercontent.com/-IsY3TyXCec8/AAAAAAAAAAI/AAAAAAAAAB8/AF3OoMPfjek/s64/photo.jpg",
      "userId": "10686372748334617638"
     },
     "user_tz": -540
    },
    "id": "XSIO38H0NXZx"
   },
   "outputs": [],
   "source": [
    "def create_model():\n",
    "    model = models.Sequential()\n",
    "    \n",
    "    model.add(DenseNet121(include_top = False,\n",
    "                            weights = 'imagenet',\n",
    "                            input_shape=(IMG_HEIGHT, IMG_WIDTH, 3)))\n",
    "    \n",
    "    model.add(layers.Dropout(0.5))#0.5, 0.8\n",
    "    model.add(layers.GlobalAveragePooling2D())\n",
    "\n",
    "    model.add(layers.Dense(1024, activation = 'relu'))\n",
    "    model.add(layers.Dropout(0.2))#0.5, 0.8\n",
    "\n",
    "    model.add(layers.Dense(len(images_folder), activation = \"softmax\"))\n",
    "    \n",
    "    return model "
   ]
  },
  {
   "cell_type": "code",
   "execution_count": 20,
   "metadata": {
    "executionInfo": {
     "elapsed": 16445,
     "status": "ok",
     "timestamp": 1616131786101,
     "user": {
      "displayName": "Tomoaki Ishii",
      "photoUrl": "https://lh6.googleusercontent.com/-IsY3TyXCec8/AAAAAAAAAAI/AAAAAAAAAB8/AF3OoMPfjek/s64/photo.jpg",
      "userId": "10686372748334617638"
     },
     "user_tz": -540
    },
    "id": "LQM3bn7NNjdC"
   },
   "outputs": [],
   "source": [
    "model = create_model()"
   ]
  },
  {
   "cell_type": "markdown",
   "metadata": {
    "id": "TJkpSqIdywbU"
   },
   "source": [
    "### Callbacks"
   ]
  },
  {
   "cell_type": "code",
   "execution_count": 21,
   "metadata": {
    "executionInfo": {
     "elapsed": 16434,
     "status": "ok",
     "timestamp": 1616131786106,
     "user": {
      "displayName": "Tomoaki Ishii",
      "photoUrl": "https://lh6.googleusercontent.com/-IsY3TyXCec8/AAAAAAAAAAI/AAAAAAAAAB8/AF3OoMPfjek/s64/photo.jpg",
      "userId": "10686372748334617638"
     },
     "user_tz": -540
    },
    "id": "wNWU6pcRywbU"
   },
   "outputs": [],
   "source": [
    "checkpoint = ModelCheckpoint(\n",
    "                            \"./checkpoint_best\",\n",
    "                            monitor = \"val_loss\",\n",
    "                            verbose = 1,\n",
    "                            save_best_only = True,\n",
    "                            save_weights_only = False,\n",
    "                            mode = \"min\")"
   ]
  },
  {
   "cell_type": "code",
   "execution_count": 22,
   "metadata": {
    "executionInfo": {
     "elapsed": 16425,
     "status": "ok",
     "timestamp": 1616131786107,
     "user": {
      "displayName": "Tomoaki Ishii",
      "photoUrl": "https://lh6.googleusercontent.com/-IsY3TyXCec8/AAAAAAAAAAI/AAAAAAAAAB8/AF3OoMPfjek/s64/photo.jpg",
      "userId": "10686372748334617638"
     },
     "user_tz": -540
    },
    "id": "wDfLvUOPywbW"
   },
   "outputs": [],
   "source": [
    "early_stop= EarlyStopping(\n",
    "                            monitor = \"val_loss\",\n",
    "                            min_delta=0.001,\n",
    "                            patience=7,#10\n",
    "                            verbose=1,\n",
    "                            mode=\"min\",\n",
    "                            restore_best_weights=False)"
   ]
  },
  {
   "cell_type": "code",
   "execution_count": 23,
   "metadata": {
    "executionInfo": {
     "elapsed": 16420,
     "status": "ok",
     "timestamp": 1616131786107,
     "user": {
      "displayName": "Tomoaki Ishii",
      "photoUrl": "https://lh6.googleusercontent.com/-IsY3TyXCec8/AAAAAAAAAAI/AAAAAAAAAB8/AF3OoMPfjek/s64/photo.jpg",
      "userId": "10686372748334617638"
     },
     "user_tz": -540
    },
    "id": "X8t49A-YywbX"
   },
   "outputs": [],
   "source": [
    "reduce_lr = ReduceLROnPlateau(\n",
    "                            monitor=\"val_loss\",\n",
    "                            factor=0.1,\n",
    "                            patience=2,\n",
    "                            verbose=1,\n",
    "                            mode=\"min\",\n",
    "                            min_delta=0.0001)"
   ]
  },
  {
   "cell_type": "code",
   "execution_count": 24,
   "metadata": {
    "executionInfo": {
     "elapsed": 16416,
     "status": "ok",
     "timestamp": 1616131786108,
     "user": {
      "displayName": "Tomoaki Ishii",
      "photoUrl": "https://lh6.googleusercontent.com/-IsY3TyXCec8/AAAAAAAAAAI/AAAAAAAAAB8/AF3OoMPfjek/s64/photo.jpg",
      "userId": "10686372748334617638"
     },
     "user_tz": -540
    },
    "id": "r348zT38ywbY"
   },
   "outputs": [],
   "source": [
    "model.compile(\n",
    "            optimizer = Adamax(),\n",
    "            loss = CategoricalCrossentropy(label_smoothing=0.3,reduction=\"auto\",name=\"categorical_crossentropy\"),\n",
    "            metrics = [\"accuracy\"])"
   ]
  },
  {
   "cell_type": "code",
   "execution_count": 25,
   "metadata": {},
   "outputs": [
    {
     "name": "stdout",
     "output_type": "stream",
     "text": [
      "Model: \"sequential\"\n",
      "_________________________________________________________________\n",
      "Layer (type)                 Output Shape              Param #   \n",
      "=================================================================\n",
      "densenet121 (Functional)     (None, 10, 10, 1024)      7037504   \n",
      "_________________________________________________________________\n",
      "dropout (Dropout)            (None, 10, 10, 1024)      0         \n",
      "_________________________________________________________________\n",
      "global_average_pooling2d (Gl (None, 1024)              0         \n",
      "_________________________________________________________________\n",
      "dense (Dense)                (None, 1024)              1049600   \n",
      "_________________________________________________________________\n",
      "dropout_1 (Dropout)          (None, 1024)              0         \n",
      "_________________________________________________________________\n",
      "dense_1 (Dense)              (None, 4)                 4100      \n",
      "=================================================================\n",
      "Total params: 8,091,204\n",
      "Trainable params: 8,007,556\n",
      "Non-trainable params: 83,648\n",
      "_________________________________________________________________\n"
     ]
    }
   ],
   "source": [
    "model.summary()"
   ]
  },
  {
   "cell_type": "markdown",
   "metadata": {},
   "source": [
    "### 学習"
   ]
  },
  {
   "cell_type": "code",
   "execution_count": null,
   "metadata": {
    "colab": {
     "base_uri": "https://localhost:8080/"
    },
    "executionInfo": {
     "elapsed": 731517,
     "status": "ok",
     "timestamp": 1616132501226,
     "user": {
      "displayName": "Tomoaki Ishii",
      "photoUrl": "https://lh6.googleusercontent.com/-IsY3TyXCec8/AAAAAAAAAAI/AAAAAAAAAB8/AF3OoMPfjek/s64/photo.jpg",
      "userId": "10686372748334617638"
     },
     "user_tz": -540
    },
    "id": "dP6x4ChpywbZ",
    "outputId": "bf5f721a-0947-4984-cc96-6fc51a590222"
   },
   "outputs": [
    {
     "name": "stderr",
     "output_type": "stream",
     "text": [
      "/Users/ishiitomoaki/.pyenv/versions/anaconda3-2020.07/lib/python3.8/site-packages/tensorflow/python/keras/engine/training.py:1844: UserWarning: `Model.fit_generator` is deprecated and will be removed in a future version. Please use `Model.fit`, which supports generators.\n",
      "  warnings.warn('`Model.fit_generator` is deprecated and '\n"
     ]
    },
    {
     "name": "stdout",
     "output_type": "stream",
     "text": [
      "Epoch 1/100\n",
      "42/42 [==============================] - ETA: 0s - loss: 1.7895 - accuracy: 0.5001 "
     ]
    }
   ],
   "source": [
    "history = model.fit_generator(\n",
    "                                train_data_gen,\n",
    "                                steps_per_epoch=None,\n",
    "                                epochs=epochs,\n",
    "                                validation_data=val_data_gen,\n",
    "                                validation_steps=None,\n",
    "                                callbacks = [checkpoint ,early_stop,reduce_lr]\n",
    "                            )"
   ]
  },
  {
   "cell_type": "code",
   "execution_count": null,
   "metadata": {
    "colab": {
     "base_uri": "https://localhost:8080/"
    },
    "executionInfo": {
     "elapsed": 784886,
     "status": "ok",
     "timestamp": 1616132554614,
     "user": {
      "displayName": "Tomoaki Ishii",
      "photoUrl": "https://lh6.googleusercontent.com/-IsY3TyXCec8/AAAAAAAAAAI/AAAAAAAAAB8/AF3OoMPfjek/s64/photo.jpg",
      "userId": "10686372748334617638"
     },
     "user_tz": -540
    },
    "id": "psiTefVWp69m",
    "outputId": "7f9b3457-dc24-4230-a687-37ae5798aa43"
   },
   "outputs": [],
   "source": [
    "# モデルを保存\n",
    "model.save('saved_model')"
   ]
  },
  {
   "cell_type": "code",
   "execution_count": null,
   "metadata": {
    "colab": {
     "base_uri": "https://localhost:8080/",
     "height": 545
    },
    "executionInfo": {
     "elapsed": 785295,
     "status": "ok",
     "timestamp": 1616132555034,
     "user": {
      "displayName": "Tomoaki Ishii",
      "photoUrl": "https://lh6.googleusercontent.com/-IsY3TyXCec8/AAAAAAAAAAI/AAAAAAAAAB8/AF3OoMPfjek/s64/photo.jpg",
      "userId": "10686372748334617638"
     },
     "user_tz": -540
    },
    "id": "4vdns_BNywbb",
    "outputId": "5e1ee1b2-8359-49b3-8637-4b651c08a867"
   },
   "outputs": [],
   "source": [
    "acc = history.history['accuracy']\n",
    "val_acc = history.history['val_accuracy']\n",
    "\n",
    "loss = history.history['loss']\n",
    "val_loss = history.history['val_loss']\n",
    "\n",
    "epochs_range = range(len(acc))\n",
    "\n",
    "plt.plot(epochs_range, acc, label='Training Accuracy')\n",
    "plt.plot(epochs_range, val_acc, label='Validation Accuracy')\n",
    "plt.legend(loc='lower right')\n",
    "plt.title('Training and Validation Accuracy')\n",
    "plt.show()\n",
    "\n",
    "plt.plot(epochs_range, loss, label='Training Loss')\n",
    "plt.plot(epochs_range, val_loss, label='Validation Loss')\n",
    "plt.legend(loc='upper right')\n",
    "plt.title('Training and Validation Loss')\n",
    "plt.show()\n"
   ]
  },
  {
   "cell_type": "markdown",
   "metadata": {
    "executionInfo": {
     "elapsed": 785288,
     "status": "ok",
     "timestamp": 1616132555036,
     "user": {
      "displayName": "Tomoaki Ishii",
      "photoUrl": "https://lh6.googleusercontent.com/-IsY3TyXCec8/AAAAAAAAAAI/AAAAAAAAAB8/AF3OoMPfjek/s64/photo.jpg",
      "userId": "10686372748334617638"
     },
     "user_tz": -540
    },
    "id": "pST9JFX_ywbb"
   },
   "source": [
    "predictに続く"
   ]
  }
 ],
 "metadata": {
  "accelerator": "GPU",
  "colab": {
   "collapsed_sections": [],
   "name": "Lemon-train-210318-DenseNet121_train_val.ipynb",
   "provenance": [
    {
     "file_id": "14rfMUpTjFxxWqoO-KgRbEk2hOstE6SYc",
     "timestamp": 1613543612366
    },
    {
     "file_id": "1rQ9gwm9nLMVeUg4cfvVqU-Kawu2uN-Lu",
     "timestamp": 1613538536005
    },
    {
     "file_id": "1DsHfddp2I-A9H09uQ6kU68ZLF0mmr3Ev",
     "timestamp": 1613525453655
    },
    {
     "file_id": "1mXw1qTOOZK__GC5JMeK8n_Cs1tix-ZZD",
     "timestamp": 1613404404599
    }
   ]
  },
  "kernelspec": {
   "display_name": "Python 3",
   "language": "python",
   "name": "python3"
  },
  "language_info": {
   "codemirror_mode": {
    "name": "ipython",
    "version": 3
   },
   "file_extension": ".py",
   "mimetype": "text/x-python",
   "name": "python",
   "nbconvert_exporter": "python",
   "pygments_lexer": "ipython3",
   "version": "3.8.3"
  }
 },
 "nbformat": 4,
 "nbformat_minor": 1
}
