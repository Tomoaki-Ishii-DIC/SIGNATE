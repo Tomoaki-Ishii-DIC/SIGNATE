{
 "cells": [
  {
   "cell_type": "markdown",
   "metadata": {
    "id": "ty92A6jaZ7fb",
    "papermill": {
     "duration": 0.023335,
     "end_time": "2021-02-09T07:46:37.961539",
     "exception": false,
     "start_time": "2021-02-09T07:46:37.938204",
     "status": "completed"
    },
    "tags": []
   },
   "source": [
    "# ひろしまQuest2020 Predict"
   ]
  },
  {
   "cell_type": "code",
   "execution_count": 1,
   "metadata": {
    "colab": {
     "base_uri": "https://localhost:8080/"
    },
    "executionInfo": {
     "elapsed": 679,
     "status": "ok",
     "timestamp": 1616132957348,
     "user": {
      "displayName": "Tomoaki Ishii",
      "photoUrl": "https://lh6.googleusercontent.com/-IsY3TyXCec8/AAAAAAAAAAI/AAAAAAAAAB8/AF3OoMPfjek/s64/photo.jpg",
      "userId": "10686372748334617638"
     },
     "user_tz": -540
    },
    "id": "pvfFi9-gaGxV",
    "outputId": "8df4b58a-96a7-4fae-9288-b002d8744c6e"
   },
   "outputs": [],
   "source": [
    "# 自分のマイドライブにマウントする(Google Colab使用時)\n",
    "\n",
    "#from google.colab import drive\n",
    "#drive.mount('/content/drive/')"
   ]
  },
  {
   "cell_type": "code",
   "execution_count": 2,
   "metadata": {
    "colab": {
     "base_uri": "https://localhost:8080/"
    },
    "executionInfo": {
     "elapsed": 1379,
     "status": "ok",
     "timestamp": 1616132958061,
     "user": {
      "displayName": "Tomoaki Ishii",
      "photoUrl": "https://lh6.googleusercontent.com/-IsY3TyXCec8/AAAAAAAAAAI/AAAAAAAAAB8/AF3OoMPfjek/s64/photo.jpg",
      "userId": "10686372748334617638"
     },
     "user_tz": -540
    },
    "id": "to4Hx1X2aJt8",
    "outputId": "ee2e3a0d-7fe0-4eaf-ec44-eeee69bada59"
   },
   "outputs": [],
   "source": [
    "#cd \"/content/drive/MyDrive\""
   ]
  },
  {
   "cell_type": "code",
   "execution_count": 3,
   "metadata": {
    "execution": {
     "iopub.execute_input": "2021-02-09T07:46:38.012452Z",
     "iopub.status.busy": "2021-02-09T07:46:38.011764Z",
     "iopub.status.idle": "2021-02-09T07:46:41.021286Z",
     "shell.execute_reply": "2021-02-09T07:46:41.020549Z"
    },
    "id": "1m0CQEh4Z7ff",
    "papermill": {
     "duration": 3.037467,
     "end_time": "2021-02-09T07:46:41.021497",
     "exception": false,
     "start_time": "2021-02-09T07:46:37.984030",
     "status": "completed"
    },
    "tags": []
   },
   "outputs": [],
   "source": [
    "import numpy as np\n",
    "import os\n",
    "import pandas as pd"
   ]
  },
  {
   "cell_type": "code",
   "execution_count": 4,
   "metadata": {
    "execution": {
     "iopub.execute_input": "2021-02-09T07:46:41.072744Z",
     "iopub.status.busy": "2021-02-09T07:46:41.071885Z",
     "iopub.status.idle": "2021-02-09T07:46:45.904637Z",
     "shell.execute_reply": "2021-02-09T07:46:45.903454Z"
    },
    "id": "f12TuPEvZ7fg",
    "papermill": {
     "duration": 4.859623,
     "end_time": "2021-02-09T07:46:45.904818",
     "exception": false,
     "start_time": "2021-02-09T07:46:41.045195",
     "status": "completed"
    },
    "tags": []
   },
   "outputs": [],
   "source": [
    "import tensorflow as tf\n",
    "from keras.models import load_model\n",
    "from tensorflow.keras.preprocessing.image import ImageDataGenerator"
   ]
  },
  {
   "cell_type": "code",
   "execution_count": 5,
   "metadata": {
    "id": "Morz1YwCaT8O"
   },
   "outputs": [],
   "source": [
    "import pathlib\n",
    "import shutil"
   ]
  },
  {
   "cell_type": "markdown",
   "metadata": {
    "id": "qrilce_NZ7fh",
    "papermill": {
     "duration": 0.021644,
     "end_time": "2021-02-09T07:46:45.948980",
     "exception": false,
     "start_time": "2021-02-09T07:46:45.927336",
     "status": "completed"
    },
    "tags": []
   },
   "source": [
    "### 推定"
   ]
  },
  {
   "cell_type": "code",
   "execution_count": 6,
   "metadata": {
    "colab": {
     "base_uri": "https://localhost:8080/"
    },
    "execution": {
     "iopub.execute_input": "2021-02-09T07:46:45.997522Z",
     "iopub.status.busy": "2021-02-09T07:46:45.996802Z",
     "iopub.status.idle": "2021-02-09T07:47:00.332783Z",
     "shell.execute_reply": "2021-02-09T07:47:00.331936Z"
    },
    "executionInfo": {
     "elapsed": 36232,
     "status": "ok",
     "timestamp": 1616132992936,
     "user": {
      "displayName": "Tomoaki Ishii",
      "photoUrl": "https://lh6.googleusercontent.com/-IsY3TyXCec8/AAAAAAAAAAI/AAAAAAAAAB8/AF3OoMPfjek/s64/photo.jpg",
      "userId": "10686372748334617638"
     },
     "user_tz": -540
    },
    "id": "RjtyLcxxZ7fh",
    "outputId": "e3c6dde3-c8b1-4c05-b4f3-8461302e29b1",
    "papermill": {
     "duration": 14.361676,
     "end_time": "2021-02-09T07:47:00.332981",
     "exception": false,
     "start_time": "2021-02-09T07:46:45.971305",
     "status": "completed"
    },
    "tags": []
   },
   "outputs": [
    {
     "name": "stdout",
     "output_type": "stream",
     "text": [
      "Model: \"sequential\"\n",
      "_________________________________________________________________\n",
      "Layer (type)                 Output Shape              Param #   \n",
      "=================================================================\n",
      "densenet121 (Functional)     (None, 10, 10, 1024)      7037504   \n",
      "_________________________________________________________________\n",
      "dropout (Dropout)            (None, 10, 10, 1024)      0         \n",
      "_________________________________________________________________\n",
      "global_average_pooling2d (Gl (None, 1024)              0         \n",
      "_________________________________________________________________\n",
      "dense (Dense)                (None, 1024)              1049600   \n",
      "_________________________________________________________________\n",
      "dropout_1 (Dropout)          (None, 1024)              0         \n",
      "_________________________________________________________________\n",
      "dense_1 (Dense)              (None, 4)                 4100      \n",
      "=================================================================\n",
      "Total params: 8,091,204\n",
      "Trainable params: 8,007,556\n",
      "Non-trainable params: 83,648\n",
      "_________________________________________________________________\n"
     ]
    }
   ],
   "source": [
    "#TrainNotebookのモデルの保存先を指定\n",
    "#model_pred = tf.keras.models.load_model('/content/drive/MyDrive/checkpoint_best')\n",
    "#model_pred = tf.keras.models.load_model('./saved_model')\n",
    "model_pred = tf.keras.models.load_model('./checkpoint_best')\n",
    "\n",
    "# アーキテクチャを確認\n",
    "model_pred.summary()"
   ]
  },
  {
   "cell_type": "markdown",
   "metadata": {
    "id": "8zGPisnjZ7fj",
    "papermill": {
     "duration": 0.022804,
     "end_time": "2021-02-09T07:47:17.255284",
     "exception": false,
     "start_time": "2021-02-09T07:47:17.232480",
     "status": "completed"
    },
    "tags": []
   },
   "source": [
    "### サブミットファイルの作成"
   ]
  },
  {
   "cell_type": "code",
   "execution_count": 7,
   "metadata": {
    "execution": {
     "iopub.execute_input": "2021-02-09T07:47:17.307415Z",
     "iopub.status.busy": "2021-02-09T07:47:17.306817Z",
     "iopub.status.idle": "2021-02-09T07:47:17.311211Z",
     "shell.execute_reply": "2021-02-09T07:47:17.310681Z"
    },
    "id": "h3f7urF4Z7fj",
    "papermill": {
     "duration": 0.031799,
     "end_time": "2021-02-09T07:47:17.311338",
     "exception": false,
     "start_time": "2021-02-09T07:47:17.279539",
     "status": "completed"
    },
    "tags": []
   },
   "outputs": [],
   "source": [
    "#dataset_path = pathlib.Path('/content/drive/MyDrive')#Google Colab使用時\n",
    "dataset_path = pathlib.Path('.')\n",
    "##os.listdir(dataset_path)"
   ]
  },
  {
   "cell_type": "markdown",
   "metadata": {
    "id": "zYuJztuJZ7fk",
    "papermill": {
     "duration": 0.022355,
     "end_time": "2021-02-09T07:47:17.356564",
     "exception": false,
     "start_time": "2021-02-09T07:47:17.334209",
     "status": "completed"
    },
    "tags": []
   },
   "source": [
    "Submitファイルの準備"
   ]
  },
  {
   "cell_type": "code",
   "execution_count": 8,
   "metadata": {
    "colab": {
     "base_uri": "https://localhost:8080/",
     "height": 203
    },
    "execution": {
     "iopub.execute_input": "2021-02-09T07:47:17.410005Z",
     "iopub.status.busy": "2021-02-09T07:47:17.409450Z",
     "iopub.status.idle": "2021-02-09T07:47:17.433767Z",
     "shell.execute_reply": "2021-02-09T07:47:17.433317Z"
    },
    "executionInfo": {
     "elapsed": 36840,
     "status": "ok",
     "timestamp": 1616132993560,
     "user": {
      "displayName": "Tomoaki Ishii",
      "photoUrl": "https://lh6.googleusercontent.com/-IsY3TyXCec8/AAAAAAAAAAI/AAAAAAAAAB8/AF3OoMPfjek/s64/photo.jpg",
      "userId": "10686372748334617638"
     },
     "user_tz": -540
    },
    "id": "mCq1PYcCZ7fk",
    "outputId": "9a7adf01-a14e-4b5b-a3c2-c146f035f2ff",
    "papermill": {
     "duration": 0.053743,
     "end_time": "2021-02-09T07:47:17.433894",
     "exception": false,
     "start_time": "2021-02-09T07:47:17.380151",
     "status": "completed"
    },
    "tags": []
   },
   "outputs": [],
   "source": [
    "sample_df = pd.read_csv(dataset_path/'sample_submit.csv', header=None)\n",
    "#sample_df.head()"
   ]
  },
  {
   "cell_type": "markdown",
   "metadata": {
    "id": "WGm7vNalZ7fl",
    "papermill": {
     "duration": 0.023498,
     "end_time": "2021-02-09T07:47:17.481010",
     "exception": false,
     "start_time": "2021-02-09T07:47:17.457512",
     "status": "completed"
    },
    "tags": []
   },
   "source": [
    "#### テストデータの準備"
   ]
  },
  {
   "cell_type": "code",
   "execution_count": 9,
   "metadata": {},
   "outputs": [],
   "source": [
    "test_folder_path = './test_images'\n",
    "#test_folder_path = '/content/drive/MyDrive/test_images'\n",
    "\n",
    "if not os.path.exists(test_folder_path):\n",
    "    os.mkdir(test_folder_path) \n",
    "    \n",
    "#os.listdir(test_folder_path)"
   ]
  },
  {
   "cell_type": "code",
   "execution_count": 10,
   "metadata": {
    "execution": {
     "iopub.execute_input": "2021-02-09T07:47:17.648803Z",
     "iopub.status.busy": "2021-02-09T07:47:17.646934Z",
     "iopub.status.idle": "2021-02-09T07:47:17.649674Z",
     "shell.execute_reply": "2021-02-09T07:47:17.650170Z"
    },
    "id": "H_yL8NlfZ7fm",
    "papermill": {
     "duration": 0.032144,
     "end_time": "2021-02-09T07:47:17.650304",
     "exception": false,
     "start_time": "2021-02-09T07:47:17.618160",
     "status": "completed"
    },
    "tags": []
   },
   "outputs": [],
   "source": [
    "test_dir = './test_images/all_classes'"
   ]
  },
  {
   "cell_type": "code",
   "execution_count": 11,
   "metadata": {
    "colab": {
     "base_uri": "https://localhost:8080/",
     "height": 34
    },
    "execution": {
     "iopub.execute_input": "2021-02-09T07:47:17.701727Z",
     "iopub.status.busy": "2021-02-09T07:47:17.701168Z",
     "iopub.status.idle": "2021-02-09T07:47:17.721100Z",
     "shell.execute_reply": "2021-02-09T07:47:17.721578Z"
    },
    "executionInfo": {
     "elapsed": 36819,
     "status": "ok",
     "timestamp": 1616132993563,
     "user": {
      "displayName": "Tomoaki Ishii",
      "photoUrl": "https://lh6.googleusercontent.com/-IsY3TyXCec8/AAAAAAAAAAI/AAAAAAAAAB8/AF3OoMPfjek/s64/photo.jpg",
      "userId": "10686372748334617638"
     },
     "user_tz": -540
    },
    "id": "8UYx6rjzZ7fm",
    "outputId": "2c3cff4c-3ebb-4c50-eefd-021d44bd2e8c",
    "papermill": {
     "duration": 0.047807,
     "end_time": "2021-02-09T07:47:17.721717",
     "exception": false,
     "start_time": "2021-02-09T07:47:17.673910",
     "status": "completed"
    },
    "tags": []
   },
   "outputs": [],
   "source": [
    "#1回実行したらコメントアウトでOK（ドライブにファイルを作るのが目的のため）\n",
    "\n",
    "if not os.path.exists(test_dir):\n",
    "    shutil.copytree(test_folder_path, test_dir)\n"
   ]
  },
  {
   "cell_type": "code",
   "execution_count": 12,
   "metadata": {
    "colab": {
     "base_uri": "https://localhost:8080/"
    },
    "execution": {
     "iopub.execute_input": "2021-02-09T07:47:17.775673Z",
     "iopub.status.busy": "2021-02-09T07:47:17.774975Z",
     "iopub.status.idle": "2021-02-09T07:47:17.779287Z",
     "shell.execute_reply": "2021-02-09T07:47:17.780123Z"
    },
    "executionInfo": {
     "elapsed": 66821,
     "status": "ok",
     "timestamp": 1616133023579,
     "user": {
      "displayName": "Tomoaki Ishii",
      "photoUrl": "https://lh6.googleusercontent.com/-IsY3TyXCec8/AAAAAAAAAAI/AAAAAAAAAB8/AF3OoMPfjek/s64/photo.jpg",
      "userId": "10686372748334617638"
     },
     "user_tz": -540
    },
    "id": "N4wc_nIaZ7fn",
    "outputId": "e938ccf4-834b-47bb-9a99-e4dd952e6477",
    "papermill": {
     "duration": 0.034534,
     "end_time": "2021-02-09T07:47:17.780289",
     "exception": false,
     "start_time": "2021-02-09T07:47:17.745755",
     "status": "completed"
    },
    "tags": []
   },
   "outputs": [
    {
     "name": "stdout",
     "output_type": "stream",
     "text": [
      "Number of pictures:  1651\n"
     ]
    }
   ],
   "source": [
    "_, _, files = next(os.walk(test_dir))\n",
    "file_count = len(files)\n",
    "print(\"Number of pictures: \", file_count)"
   ]
  },
  {
   "cell_type": "code",
   "execution_count": 13,
   "metadata": {
    "execution": {
     "iopub.execute_input": "2021-02-09T07:47:17.835821Z",
     "iopub.status.busy": "2021-02-09T07:47:17.835235Z",
     "iopub.status.idle": "2021-02-09T07:47:17.839821Z",
     "shell.execute_reply": "2021-02-09T07:47:17.839321Z"
    },
    "id": "QmkhutlfZ7fn",
    "papermill": {
     "duration": 0.033724,
     "end_time": "2021-02-09T07:47:17.839939",
     "exception": false,
     "start_time": "2021-02-09T07:47:17.806215",
     "status": "completed"
    },
    "tags": []
   },
   "outputs": [],
   "source": [
    "test_image_generator = ImageDataGenerator(rescale=1./255)"
   ]
  },
  {
   "cell_type": "code",
   "execution_count": 14,
   "metadata": {
    "execution": {
     "iopub.execute_input": "2021-02-09T07:47:17.959270Z",
     "iopub.status.busy": "2021-02-09T07:47:17.958591Z",
     "iopub.status.idle": "2021-02-09T07:47:17.962953Z",
     "shell.execute_reply": "2021-02-09T07:47:17.962414Z"
    },
    "id": "zPdHP3QgZ7fo",
    "papermill": {
     "duration": 0.035578,
     "end_time": "2021-02-09T07:47:17.963133",
     "exception": false,
     "start_time": "2021-02-09T07:47:17.927555",
     "status": "completed"
    },
    "tags": []
   },
   "outputs": [],
   "source": [
    "IMG_HEIGHT = 320\n",
    "IMG_WIDTH = 320"
   ]
  },
  {
   "cell_type": "code",
   "execution_count": 15,
   "metadata": {
    "colab": {
     "base_uri": "https://localhost:8080/"
    },
    "execution": {
     "iopub.execute_input": "2021-02-09T07:47:18.020039Z",
     "iopub.status.busy": "2021-02-09T07:47:18.019465Z",
     "iopub.status.idle": "2021-02-09T07:47:18.126899Z",
     "shell.execute_reply": "2021-02-09T07:47:18.126288Z"
    },
    "executionInfo": {
     "elapsed": 66975,
     "status": "ok",
     "timestamp": 1616133023758,
     "user": {
      "displayName": "Tomoaki Ishii",
      "photoUrl": "https://lh6.googleusercontent.com/-IsY3TyXCec8/AAAAAAAAAAI/AAAAAAAAAB8/AF3OoMPfjek/s64/photo.jpg",
      "userId": "10686372748334617638"
     },
     "user_tz": -540
    },
    "id": "MxsRJbbjZ7fo",
    "outputId": "08a1e384-a658-48ec-fa6c-0959e6a51b8c",
    "papermill": {
     "duration": 0.137916,
     "end_time": "2021-02-09T07:47:18.127074",
     "exception": false,
     "start_time": "2021-02-09T07:47:17.989158",
     "status": "completed"
    },
    "tags": []
   },
   "outputs": [
    {
     "name": "stdout",
     "output_type": "stream",
     "text": [
      "Found 1651 images belonging to 1 classes.\n"
     ]
    }
   ],
   "source": [
    "test_generator = test_image_generator.flow_from_directory(\n",
    "    directory=test_folder_path,\n",
    "    target_size=(IMG_HEIGHT, IMG_WIDTH),\n",
    "    class_mode=None,\n",
    "    shuffle=False\n",
    "    )"
   ]
  },
  {
   "cell_type": "markdown",
   "metadata": {
    "id": "3MvSrfXZZ7fr",
    "papermill": {
     "duration": 0.028736,
     "end_time": "2021-02-09T07:47:27.014704",
     "exception": false,
     "start_time": "2021-02-09T07:47:26.985968",
     "status": "completed"
    },
    "tags": []
   },
   "source": [
    "## 推定"
   ]
  },
  {
   "cell_type": "code",
   "execution_count": 16,
   "metadata": {},
   "outputs": [
    {
     "name": "stderr",
     "output_type": "stream",
     "text": [
      "/Users/ishiitomoaki/.pyenv/versions/anaconda3-2020.07/lib/python3.8/site-packages/tensorflow/python/keras/engine/training.py:1905: UserWarning: `Model.predict_generator` is deprecated and will be removed in a future version. Please use `Model.predict`, which supports generators.\n",
      "  warnings.warn('`Model.predict_generator` is deprecated and '\n"
     ]
    },
    {
     "name": "stdout",
     "output_type": "stream",
     "text": [
      "52/52 [==============================] - 444s 9s/step\n"
     ]
    }
   ],
   "source": [
    "y_predict = model_pred.predict_generator(test_generator, verbose=1)"
   ]
  },
  {
   "cell_type": "code",
   "execution_count": 17,
   "metadata": {},
   "outputs": [
    {
     "name": "stdout",
     "output_type": "stream",
     "text": [
      "predicted class indices:  [0 3 0 ... 1 0 0]\n"
     ]
    }
   ],
   "source": [
    "predicted_class_indices = np.argmax(y_predict, axis=1)\n",
    "print(\"predicted class indices: \", predicted_class_indices)\n",
    "\n",
    "#labels_dict = ({'優良': 0, '良': 1, '加工品': 2, '規格外': 3})\n",
    "#labels = dict((v,k) for k,v in labels_dict.items())\n",
    "#predictions = [labels[k] for k in predicted_class_indices]\n",
    "#print(\"predicted class: \", predictions)"
   ]
  },
  {
   "cell_type": "markdown",
   "metadata": {
    "id": "3PRhyF_cZ7fu",
    "papermill": {
     "duration": 0.031581,
     "end_time": "2021-02-09T07:47:27.863088",
     "exception": false,
     "start_time": "2021-02-09T07:47:27.831507",
     "status": "completed"
    },
    "tags": []
   },
   "source": [
    "### Submission"
   ]
  },
  {
   "cell_type": "code",
   "execution_count": 18,
   "metadata": {
    "colab": {
     "base_uri": "https://localhost:8080/",
     "height": 417
    },
    "execution": {
     "iopub.execute_input": "2021-02-09T07:47:27.940235Z",
     "iopub.status.busy": "2021-02-09T07:47:27.939274Z",
     "iopub.status.idle": "2021-02-09T07:47:27.943501Z",
     "shell.execute_reply": "2021-02-09T07:47:27.942969Z"
    },
    "executionInfo": {
     "elapsed": 581287,
     "status": "ok",
     "timestamp": 1616133538122,
     "user": {
      "displayName": "Tomoaki Ishii",
      "photoUrl": "https://lh6.googleusercontent.com/-IsY3TyXCec8/AAAAAAAAAAI/AAAAAAAAAB8/AF3OoMPfjek/s64/photo.jpg",
      "userId": "10686372748334617638"
     },
     "user_tz": -540
    },
    "id": "kkFiveZ3Z7fu",
    "outputId": "5ed237aa-6277-4d68-9ce9-67376cb32a8f",
    "papermill": {
     "duration": 0.048163,
     "end_time": "2021-02-09T07:47:27.943621",
     "exception": false,
     "start_time": "2021-02-09T07:47:27.895458",
     "status": "completed"
    },
    "tags": []
   },
   "outputs": [
    {
     "data": {
      "text/html": [
       "<div>\n",
       "<style scoped>\n",
       "    .dataframe tbody tr th:only-of-type {\n",
       "        vertical-align: middle;\n",
       "    }\n",
       "\n",
       "    .dataframe tbody tr th {\n",
       "        vertical-align: top;\n",
       "    }\n",
       "\n",
       "    .dataframe thead th {\n",
       "        text-align: right;\n",
       "    }\n",
       "</style>\n",
       "<table border=\"1\" class=\"dataframe\">\n",
       "  <thead>\n",
       "    <tr style=\"text-align: right;\">\n",
       "      <th></th>\n",
       "      <th>0</th>\n",
       "      <th>1</th>\n",
       "    </tr>\n",
       "  </thead>\n",
       "  <tbody>\n",
       "    <tr>\n",
       "      <th>0</th>\n",
       "      <td>test_0000.jpg</td>\n",
       "      <td>0</td>\n",
       "    </tr>\n",
       "    <tr>\n",
       "      <th>1</th>\n",
       "      <td>test_0001.jpg</td>\n",
       "      <td>3</td>\n",
       "    </tr>\n",
       "    <tr>\n",
       "      <th>2</th>\n",
       "      <td>test_0002.jpg</td>\n",
       "      <td>0</td>\n",
       "    </tr>\n",
       "    <tr>\n",
       "      <th>3</th>\n",
       "      <td>test_0003.jpg</td>\n",
       "      <td>3</td>\n",
       "    </tr>\n",
       "    <tr>\n",
       "      <th>4</th>\n",
       "      <td>test_0004.jpg</td>\n",
       "      <td>0</td>\n",
       "    </tr>\n",
       "    <tr>\n",
       "      <th>...</th>\n",
       "      <td>...</td>\n",
       "      <td>...</td>\n",
       "    </tr>\n",
       "    <tr>\n",
       "      <th>1646</th>\n",
       "      <td>test_1646.jpg</td>\n",
       "      <td>2</td>\n",
       "    </tr>\n",
       "    <tr>\n",
       "      <th>1647</th>\n",
       "      <td>test_1647.jpg</td>\n",
       "      <td>2</td>\n",
       "    </tr>\n",
       "    <tr>\n",
       "      <th>1648</th>\n",
       "      <td>test_1648.jpg</td>\n",
       "      <td>1</td>\n",
       "    </tr>\n",
       "    <tr>\n",
       "      <th>1649</th>\n",
       "      <td>test_1649.jpg</td>\n",
       "      <td>0</td>\n",
       "    </tr>\n",
       "    <tr>\n",
       "      <th>1650</th>\n",
       "      <td>test_1650.jpg</td>\n",
       "      <td>0</td>\n",
       "    </tr>\n",
       "  </tbody>\n",
       "</table>\n",
       "<p>1651 rows × 2 columns</p>\n",
       "</div>"
      ],
      "text/plain": [
       "                  0  1\n",
       "0     test_0000.jpg  0\n",
       "1     test_0001.jpg  3\n",
       "2     test_0002.jpg  0\n",
       "3     test_0003.jpg  3\n",
       "4     test_0004.jpg  0\n",
       "...             ... ..\n",
       "1646  test_1646.jpg  2\n",
       "1647  test_1647.jpg  2\n",
       "1648  test_1648.jpg  1\n",
       "1649  test_1649.jpg  0\n",
       "1650  test_1650.jpg  0\n",
       "\n",
       "[1651 rows x 2 columns]"
      ]
     },
     "execution_count": 18,
     "metadata": {},
     "output_type": "execute_result"
    }
   ],
   "source": [
    "submit_ID = sample_df.iloc[:][0]\n",
    "submit_TARGET = pd.DataFrame(predicted_class_indices)\n",
    "\n",
    "submission_df = pd.concat([submit_ID, submit_TARGET], axis=1)\n",
    "submit_columns = sample_df.columns\n",
    "submission_df.columns = submit_columns\n",
    "\n",
    "submission_df"
   ]
  },
  {
   "cell_type": "code",
   "execution_count": 19,
   "metadata": {
    "execution": {
     "iopub.execute_input": "2021-02-09T07:47:28.014744Z",
     "iopub.status.busy": "2021-02-09T07:47:28.014034Z",
     "iopub.status.idle": "2021-02-09T07:47:28.124164Z",
     "shell.execute_reply": "2021-02-09T07:47:28.123592Z"
    },
    "id": "OEizbXtDZ7fv",
    "papermill": {
     "duration": 0.147169,
     "end_time": "2021-02-09T07:47:28.124295",
     "exception": false,
     "start_time": "2021-02-09T07:47:27.977126",
     "status": "completed"
    },
    "tags": []
   },
   "outputs": [],
   "source": [
    "submission_df.to_csv('submission.csv',index=False, header=False)"
   ]
  },
  {
   "cell_type": "markdown",
   "metadata": {},
   "source": [
    "以上"
   ]
  }
 ],
 "metadata": {
  "accelerator": "GPU",
  "colab": {
   "collapsed_sections": [],
   "name": "Lemon-pred-210318-densenet_01_形式変更.ipynb",
   "provenance": [
    {
     "file_id": "1G91d21p-lWFGSMGU1ND1f7QOqhLhTIzu",
     "timestamp": 1613813034339
    }
   ]
  },
  "kernelspec": {
   "display_name": "Python 3",
   "language": "python",
   "name": "python3"
  },
  "language_info": {
   "codemirror_mode": {
    "name": "ipython",
    "version": 3
   },
   "file_extension": ".py",
   "mimetype": "text/x-python",
   "name": "python",
   "nbconvert_exporter": "python",
   "pygments_lexer": "ipython3",
   "version": "3.8.3"
  },
  "papermill": {
   "default_parameters": {},
   "duration": 59.713849,
   "end_time": "2021-02-09T07:47:32.060760",
   "environment_variables": {},
   "exception": null,
   "input_path": "__notebook__.ipynb",
   "output_path": "__notebook__.ipynb",
   "parameters": {},
   "start_time": "2021-02-09T07:46:32.346911",
   "version": "2.2.2"
  }
 },
 "nbformat": 4,
 "nbformat_minor": 1
}
